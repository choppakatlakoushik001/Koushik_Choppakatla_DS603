{
 "cells": [
  {
   "cell_type": "markdown",
   "id": "05207867",
   "metadata": {},
   "source": [
    "CREATING A SPARK SESSION"
   ]
  },
  {
   "cell_type": "code",
   "execution_count": 1,
   "id": "9d39cfbc",
   "metadata": {},
   "outputs": [],
   "source": [
    "from pyspark.sql import SparkSession"
   ]
  },
  {
   "cell_type": "code",
   "execution_count": 2,
   "id": "aa02a20b",
   "metadata": {},
   "outputs": [],
   "source": [
    "spark = SparkSession.builder.appName(\"example_app\").config(\"spark.driver.meory\",\"20g\").getOrCreate()"
   ]
  },
  {
   "cell_type": "code",
   "execution_count": 3,
   "id": "6faa52c8",
   "metadata": {},
   "outputs": [
    {
     "data": {
      "text/html": [
       "\n",
       "            <div>\n",
       "                <p><b>SparkSession - in-memory</b></p>\n",
       "                \n",
       "        <div>\n",
       "            <p><b>SparkContext</b></p>\n",
       "\n",
       "            <p><a href=\"http://host.docker.internal:4040\">Spark UI</a></p>\n",
       "\n",
       "            <dl>\n",
       "              <dt>Version</dt>\n",
       "                <dd><code>v3.5.0</code></dd>\n",
       "              <dt>Master</dt>\n",
       "                <dd><code>local[*]</code></dd>\n",
       "              <dt>AppName</dt>\n",
       "                <dd><code>example_app</code></dd>\n",
       "            </dl>\n",
       "        </div>\n",
       "        \n",
       "            </div>\n",
       "        "
      ],
      "text/plain": [
       "<pyspark.sql.session.SparkSession at 0x1f16634f3a0>"
      ]
     },
     "execution_count": 3,
     "metadata": {},
     "output_type": "execute_result"
    }
   ],
   "source": [
    "spark"
   ]
  },
  {
   "cell_type": "markdown",
   "id": "52ff5ef0",
   "metadata": {},
   "source": [
    "DEFINING THE SCHEMA"
   ]
  },
  {
   "cell_type": "code",
   "execution_count": 4,
   "id": "f3beb88f",
   "metadata": {},
   "outputs": [],
   "source": [
    "from pyspark.sql.types import IntegerType, StringType, BooleanType, DoubleType, StructType, StructField"
   ]
  },
  {
   "cell_type": "code",
   "execution_count": 5,
   "id": "0418d863",
   "metadata": {},
   "outputs": [],
   "source": [
    "schema = StructType([\n",
    "    StructField(\"ID\", IntegerType(), True),\n",
    "    StructField(\"Case Number\", StringType(), True),\n",
    "    StructField(\"Date\", StringType(), True),\n",
    "    StructField(\"Block\", StringType(), True),\n",
    "    StructField(\"IUCR\", StringType(), True),\n",
    "    StructField(\"Primary Type\", StringType(), True),\n",
    "    StructField(\"Description\", StringType(), True),\n",
    "    StructField(\"Location Description\", StringType(), True),\n",
    "    StructField(\"Arrest\", BooleanType(), True),\n",
    "    StructField(\"Domestic\", BooleanType(), True),\n",
    "    StructField(\"Beat\", IntegerType(), True),\n",
    "    StructField(\"District\", IntegerType(), True),\n",
    "    StructField(\"Ward\", IntegerType(), True),\n",
    "    StructField(\"Community Area\", IntegerType(), True),\n",
    "    StructField(\"FBI Code\", StringType(), True),\n",
    "    StructField(\"X Coordinate\", IntegerType(), True),\n",
    "    StructField(\"Y Coordinate\", IntegerType(), True),\n",
    "    StructField(\"Year\", IntegerType(), True),\n",
    "    StructField(\"Updated On\", StringType(), True),\n",
    "    StructField(\"Latitude\", DoubleType(), True),\n",
    "    StructField(\"Longitude\", DoubleType(), True),\n",
    "    StructField(\"Location\", StringType(), True)\n",
    "])"
   ]
  },
  {
   "cell_type": "markdown",
   "id": "f74cce7f",
   "metadata": {},
   "source": [
    "LOADING THE DATA"
   ]
  },
  {
   "cell_type": "code",
   "execution_count": 6,
   "id": "077f10ae",
   "metadata": {},
   "outputs": [],
   "source": [
    "df = spark.read.csv(\"Crimes_-_2001_to_Present.csv\", schema, header=True)"
   ]
  },
  {
   "cell_type": "code",
   "execution_count": 7,
   "id": "e4dc51c4",
   "metadata": {},
   "outputs": [
    {
     "data": {
      "text/plain": [
       "DataFrame[ID: int, Case Number: string, Date: string, Block: string, IUCR: string, Primary Type: string, Description: string, Location Description: string, Arrest: boolean, Domestic: boolean, Beat: int, District: int, Ward: int, Community Area: int, FBI Code: string, X Coordinate: int, Y Coordinate: int, Year: int, Updated On: string, Latitude: double, Longitude: double, Location: string]"
      ]
     },
     "execution_count": 7,
     "metadata": {},
     "output_type": "execute_result"
    }
   ],
   "source": [
    "df"
   ]
  },
  {
   "cell_type": "code",
   "execution_count": 8,
   "id": "1306d9f8",
   "metadata": {},
   "outputs": [
    {
     "name": "stdout",
     "output_type": "stream",
     "text": [
      "+--------+-----------+--------------------+--------------------+----+--------------------+--------------------+--------------------+------+--------+----+--------+----+--------------+--------+------------+------------+----+--------------------+------------+-------------+--------------------+\n",
      "|      ID|Case Number|                Date|               Block|IUCR|        Primary Type|         Description|Location Description|Arrest|Domestic|Beat|District|Ward|Community Area|FBI Code|X Coordinate|Y Coordinate|Year|          Updated On|    Latitude|    Longitude|            Location|\n",
      "+--------+-----------+--------------------+--------------------+----+--------------------+--------------------+--------------------+------+--------+----+--------+----+--------------+--------+------------+------------+----+--------------------+------------+-------------+--------------------+\n",
      "| 5741943|   HN549294|08/25/2007 09:22:...|  074XX N ROGERS AVE|0560|             ASSAULT|              SIMPLE|               OTHER| false|   false|2422|      24|  49|             1|     08A|        NULL|        NULL|2007|08/17/2015 03:03:...|        NULL|         NULL|                NULL|\n",
      "| 1930689|   HH109118|01/05/2002 09:24:...|      007XX E 103 ST|0820|               THEFT|      $500 AND UNDER|         GAS STATION|  true|   false| 512|       5|NULL|          NULL|      06|        NULL|        NULL|2002|02/04/2016 06:33:...|        NULL|         NULL|                NULL|\n",
      "|13203321|   JG415333|09/06/2023 05:00:...|    002XX N Wells st|1320|     CRIMINAL DAMAGE|          TO VEHICLE|PARKING LOT / GAR...| false|   false| 122|       1|  42|            32|      14|        NULL|        NULL|2023|09/14/2023 03:43:...|        NULL|         NULL|                NULL|\n",
      "|13210088|   JG423627|08/31/2023 12:00:...|023XX W JACKSON BLVD|1153|  DECEPTIVE PRACTICE|FINANCIAL IDENTIT...|              STREET| false|   false|1225|      12|  27|            28|      11|     1160870|     1898642|2023|09/16/2023 03:41:...|41.877565108| -87.68479102|(41.877565108, -8...|\n",
      "|13210004|   JG422532|07/24/2023 09:45:...|073XX S JEFFERY BLVD|0281|CRIMINAL SEXUAL A...|      NON-AGGRAVATED|           APARTMENT| false|   false| 333|       3|   7|            43|      02|     1190812|     1856743|2023|09/16/2023 03:41:...|  41.7619185|-87.576209245|(41.7619185, -87....|\n",
      "|13210062|   JG423596|08/27/2023 07:00:...|034XX N LAWNDALE AVE|0820|               THEFT|      $500 AND UNDER|           APARTMENT| false|   false|1732|      17|  30|            21|      06|     1151117|     1922554|2023|09/16/2023 03:41:...|41.943378528|  -87.7199738|(41.943378528, -8...|\n",
      "|13210107|   JG411849|09/04/2023 09:30:...|   053XX S HOMAN AVE|1310|     CRIMINAL DAMAGE|         TO PROPERTY|  RESIDENCE - GARAGE| false|   false| 822|       8|  14|            63|      14|     1154617|     1869046|2023|09/16/2023 03:41:...|41.796477414|-87.708540915|(41.796477414, -8...|\n",
      "|13210060|   JG423567|08/15/2023 02:20:...|077XX S SPAULDING...|0810|               THEFT|           OVER $500|RESIDENCE - PORCH...| false|   false| 835|       8|  18|            70|      06|     1155724|     1853097|2023|09/16/2023 03:41:...|41.752688801|-87.704908791|(41.752688801, -8...|\n",
      "|13210120|   JG423499|07/24/2023 04:09:...|     002XX W 75TH ST|1120|  DECEPTIVE PRACTICE|             FORGERY|   CURRENCY EXCHANGE| false|   false| 731|       7|   6|            69|      10|     1175716|     1855233|2023|09/16/2023 03:41:...|41.758126171|-87.631582508|(41.758126171, -8...|\n",
      "|13210071|   JG421086|09/03/2023 10:27:...|   089XX S LOOMIS ST|0890|               THEFT|       FROM BUILDING|           APARTMENT| false|   false|2222|      22|  21|            73|      06|     1168564|     1845472|2023|09/16/2023 03:41:...|41.731497731|-87.658074565|(41.731497731, -8...|\n",
      "|13210035|   JG422370|08/17/2023 07:00:...|     019XX W 71ST ST|0820|               THEFT|      $500 AND UNDER|              STREET| false|   false| 735|       7|  17|            67|      06|     1164749|     1857588|2023|09/16/2023 03:41:...|41.764827083|-87.671709119|(41.764827083, -8...|\n",
      "|13210008|   JG422517|08/24/2023 02:27:...|  031XX S WALLACE ST|1110|  DECEPTIVE PRACTICE|         BOGUS CHECK|   CURRENCY EXCHANGE| false|   false| 915|       9|  11|            60|      11|     1172803|     1884190|2023|09/16/2023 03:41:...|41.837651929|-87.641404086|(41.837651929, -8...|\n",
      "|13210072|   JG422242|08/11/2023 11:00:...|  0000X S ALBANY AVE|1790|OFFENSE INVOLVING...|     CHILD ABDUCTION|           RESIDENCE| false|    true|1124|      11|  28|            27|      26|     1155914|     1899709|2023|09/16/2023 03:41:...|41.880594385|-87.702959421|(41.880594385, -8...|\n",
      "|11662417|   JC232642|04/21/2019 12:30:...|     009XX E 80TH ST|031A|             ROBBERY|     ARMED - HANDGUN|           RESIDENCE| false|   false| 631|       6|   8|            44|      03|     1184044|     1852159|2019|09/14/2023 03:41:...|41.749500329|  -87.6011574|(41.749500329, -8...|\n",
      "|12218064|   JD426642|10/30/2020 04:30:...|     011XX E 82ND ST|0266|CRIMINAL SEXUAL A...|           PREDATORY|           RESIDENCE|  true|    true| 411|       4|   8|            45|      02|     1185144|     1850850|2020|09/14/2023 03:41:...|41.745882542|-87.597167639|(41.745882542, -8...|\n",
      "|12342615|   JE202211|04/17/2021 03:20:...| 081XX S PRAIRIE AVE|0325|             ROBBERY| VEHICULAR HIJACKING|           RESIDENCE|  true|   false| 631|       6|   6|            44|      03|     1179448|     1851073|2021|09/14/2023 03:41:...|41.746626309|-87.618031954|(41.746626309, -8...|\n",
      "|12416972|   JE293535|10/01/2020 12:01:...|     031XX W 53RD PL|1753|OFFENSE INVOLVING...|SEXUAL ASSAULT OF...|           RESIDENCE| false|    true| 923|       9|  14|            63|      02|        NULL|        NULL|2020|09/14/2023 03:41:...|        NULL|         NULL|                NULL|\n",
      "|12416974|   JE293464|08/10/2011 12:01:...|     031XX W 53RD PL|1753|OFFENSE INVOLVING...|SEXUAL ASSAULT OF...|           RESIDENCE| false|    true| 923|       9|  14|            63|      02|        NULL|        NULL|2011|09/14/2023 03:41:...|        NULL|         NULL|                NULL|\n",
      "|12536164|   JE439378|09/24/2015 12:00:...|     031XX W 53RD PL|1753|OFFENSE INVOLVING...|SEXUAL ASSAULT OF...|           APARTMENT| false|    true| 923|       9|  14|            63|      02|        NULL|        NULL|2015|09/14/2023 03:41:...|        NULL|         NULL|                NULL|\n",
      "|12536166|   JE439332|09/07/2014 12:00:...|     031XX W 53RD PL|1753|OFFENSE INVOLVING...|SEXUAL ASSAULT OF...|           APARTMENT| false|    true| 923|       9|  14|            63|      02|        NULL|        NULL|2014|09/14/2023 03:41:...|        NULL|         NULL|                NULL|\n",
      "+--------+-----------+--------------------+--------------------+----+--------------------+--------------------+--------------------+------+--------+----+--------+----+--------------+--------+------------+------------+----+--------------------+------------+-------------+--------------------+\n",
      "only showing top 20 rows\n",
      "\n"
     ]
    }
   ],
   "source": [
    "df.show()"
   ]
  },
  {
   "cell_type": "code",
   "execution_count": 9,
   "id": "d7e7b1fa",
   "metadata": {},
   "outputs": [
    {
     "name": "stdout",
     "output_type": "stream",
     "text": [
      "root\n",
      " |-- ID: integer (nullable = true)\n",
      " |-- Case Number: string (nullable = true)\n",
      " |-- Date: string (nullable = true)\n",
      " |-- Block: string (nullable = true)\n",
      " |-- IUCR: string (nullable = true)\n",
      " |-- Primary Type: string (nullable = true)\n",
      " |-- Description: string (nullable = true)\n",
      " |-- Location Description: string (nullable = true)\n",
      " |-- Arrest: boolean (nullable = true)\n",
      " |-- Domestic: boolean (nullable = true)\n",
      " |-- Beat: integer (nullable = true)\n",
      " |-- District: integer (nullable = true)\n",
      " |-- Ward: integer (nullable = true)\n",
      " |-- Community Area: integer (nullable = true)\n",
      " |-- FBI Code: string (nullable = true)\n",
      " |-- X Coordinate: integer (nullable = true)\n",
      " |-- Y Coordinate: integer (nullable = true)\n",
      " |-- Year: integer (nullable = true)\n",
      " |-- Updated On: string (nullable = true)\n",
      " |-- Latitude: double (nullable = true)\n",
      " |-- Longitude: double (nullable = true)\n",
      " |-- Location: string (nullable = true)\n",
      "\n"
     ]
    }
   ],
   "source": [
    "df.printSchema()"
   ]
  },
  {
   "cell_type": "markdown",
   "id": "0aa58820",
   "metadata": {},
   "source": [
    "REMOVING THE NULL VALUES"
   ]
  },
  {
   "cell_type": "code",
   "execution_count": 10,
   "id": "1f946d7d",
   "metadata": {},
   "outputs": [],
   "source": [
    "from pyspark.sql.functions import col, sum\n",
    "\n",
    "# Create a list of columns with their corresponding null counts\n",
    "null_counts = []\n",
    "for column in df.columns:\n",
    "    null_count = df.filter(col(column).isNull()).count()\n",
    "    null_counts.append((column, null_count))"
   ]
  },
  {
   "cell_type": "code",
   "execution_count": 11,
   "id": "5a679a1a",
   "metadata": {},
   "outputs": [
    {
     "name": "stdout",
     "output_type": "stream",
     "text": [
      "Column 'Location Description' has 11937 null values.\n",
      "Column 'District' has 47 null values.\n",
      "Column 'Ward' has 614849 null values.\n",
      "Column 'Community Area' has 613476 null values.\n",
      "Column 'X Coordinate' has 90138 null values.\n",
      "Column 'Y Coordinate' has 90138 null values.\n",
      "Column 'Latitude' has 90138 null values.\n",
      "Column 'Longitude' has 90138 null values.\n",
      "Column 'Location' has 90138 null values.\n"
     ]
    }
   ],
   "source": [
    "# Filter columns with null values\n",
    "columns_null = list(filter(lambda x: x[1] > 0, null_counts))\n",
    "\n",
    "# Display columns with null values and their counts\n",
    "for col_name, count in columns_null:\n",
    "    print(f\"Column '{col_name}' has {count} null values.\")"
   ]
  },
  {
   "cell_type": "code",
   "execution_count": 12,
   "id": "b4f9e49c",
   "metadata": {},
   "outputs": [],
   "source": [
    "#dropping the null values\n",
    "df = df.na.drop()"
   ]
  },
  {
   "cell_type": "code",
   "execution_count": 13,
   "id": "a07aea8f",
   "metadata": {},
   "outputs": [
    {
     "name": "stdout",
     "output_type": "stream",
     "text": [
      "+--------+-----------+--------------------+--------------------+----+--------------------+--------------------+--------------------+------+--------+----+--------+----+--------------+--------+------------+------------+----+--------------------+------------+-------------+--------------------+\n",
      "|      ID|Case Number|                Date|               Block|IUCR|        Primary Type|         Description|Location Description|Arrest|Domestic|Beat|District|Ward|Community Area|FBI Code|X Coordinate|Y Coordinate|Year|          Updated On|    Latitude|    Longitude|            Location|\n",
      "+--------+-----------+--------------------+--------------------+----+--------------------+--------------------+--------------------+------+--------+----+--------+----+--------------+--------+------------+------------+----+--------------------+------------+-------------+--------------------+\n",
      "|13210088|   JG423627|08/31/2023 12:00:...|023XX W JACKSON BLVD|1153|  DECEPTIVE PRACTICE|FINANCIAL IDENTIT...|              STREET| false|   false|1225|      12|  27|            28|      11|     1160870|     1898642|2023|09/16/2023 03:41:...|41.877565108| -87.68479102|(41.877565108, -8...|\n",
      "|13210004|   JG422532|07/24/2023 09:45:...|073XX S JEFFERY BLVD|0281|CRIMINAL SEXUAL A...|      NON-AGGRAVATED|           APARTMENT| false|   false| 333|       3|   7|            43|      02|     1190812|     1856743|2023|09/16/2023 03:41:...|  41.7619185|-87.576209245|(41.7619185, -87....|\n",
      "|13210062|   JG423596|08/27/2023 07:00:...|034XX N LAWNDALE AVE|0820|               THEFT|      $500 AND UNDER|           APARTMENT| false|   false|1732|      17|  30|            21|      06|     1151117|     1922554|2023|09/16/2023 03:41:...|41.943378528|  -87.7199738|(41.943378528, -8...|\n",
      "|13210107|   JG411849|09/04/2023 09:30:...|   053XX S HOMAN AVE|1310|     CRIMINAL DAMAGE|         TO PROPERTY|  RESIDENCE - GARAGE| false|   false| 822|       8|  14|            63|      14|     1154617|     1869046|2023|09/16/2023 03:41:...|41.796477414|-87.708540915|(41.796477414, -8...|\n",
      "|13210060|   JG423567|08/15/2023 02:20:...|077XX S SPAULDING...|0810|               THEFT|           OVER $500|RESIDENCE - PORCH...| false|   false| 835|       8|  18|            70|      06|     1155724|     1853097|2023|09/16/2023 03:41:...|41.752688801|-87.704908791|(41.752688801, -8...|\n",
      "|13210120|   JG423499|07/24/2023 04:09:...|     002XX W 75TH ST|1120|  DECEPTIVE PRACTICE|             FORGERY|   CURRENCY EXCHANGE| false|   false| 731|       7|   6|            69|      10|     1175716|     1855233|2023|09/16/2023 03:41:...|41.758126171|-87.631582508|(41.758126171, -8...|\n",
      "|13210071|   JG421086|09/03/2023 10:27:...|   089XX S LOOMIS ST|0890|               THEFT|       FROM BUILDING|           APARTMENT| false|   false|2222|      22|  21|            73|      06|     1168564|     1845472|2023|09/16/2023 03:41:...|41.731497731|-87.658074565|(41.731497731, -8...|\n",
      "|13210035|   JG422370|08/17/2023 07:00:...|     019XX W 71ST ST|0820|               THEFT|      $500 AND UNDER|              STREET| false|   false| 735|       7|  17|            67|      06|     1164749|     1857588|2023|09/16/2023 03:41:...|41.764827083|-87.671709119|(41.764827083, -8...|\n",
      "|13210008|   JG422517|08/24/2023 02:27:...|  031XX S WALLACE ST|1110|  DECEPTIVE PRACTICE|         BOGUS CHECK|   CURRENCY EXCHANGE| false|   false| 915|       9|  11|            60|      11|     1172803|     1884190|2023|09/16/2023 03:41:...|41.837651929|-87.641404086|(41.837651929, -8...|\n",
      "|13210072|   JG422242|08/11/2023 11:00:...|  0000X S ALBANY AVE|1790|OFFENSE INVOLVING...|     CHILD ABDUCTION|           RESIDENCE| false|    true|1124|      11|  28|            27|      26|     1155914|     1899709|2023|09/16/2023 03:41:...|41.880594385|-87.702959421|(41.880594385, -8...|\n",
      "|11662417|   JC232642|04/21/2019 12:30:...|     009XX E 80TH ST|031A|             ROBBERY|     ARMED - HANDGUN|           RESIDENCE| false|   false| 631|       6|   8|            44|      03|     1184044|     1852159|2019|09/14/2023 03:41:...|41.749500329|  -87.6011574|(41.749500329, -8...|\n",
      "|12218064|   JD426642|10/30/2020 04:30:...|     011XX E 82ND ST|0266|CRIMINAL SEXUAL A...|           PREDATORY|           RESIDENCE|  true|    true| 411|       4|   8|            45|      02|     1185144|     1850850|2020|09/14/2023 03:41:...|41.745882542|-87.597167639|(41.745882542, -8...|\n",
      "|12342615|   JE202211|04/17/2021 03:20:...| 081XX S PRAIRIE AVE|0325|             ROBBERY| VEHICULAR HIJACKING|           RESIDENCE|  true|   false| 631|       6|   6|            44|      03|     1179448|     1851073|2021|09/14/2023 03:41:...|41.746626309|-87.618031954|(41.746626309, -8...|\n",
      "|12589893|   JF109865|01/11/2022 03:00:...|087XX S KINGSTON AVE|1565|         SEX OFFENSE|INDECENT SOLICITA...|           RESIDENCE| false|    true| 423|       4|   7|            46|      17|     1194660|     1847481|2022|09/14/2023 03:41:...|41.736409029|-87.562410309|(41.736409029, -8...|\n",
      "|12592454|   JF113025|01/14/2022 03:55:...|   067XX S MORGAN ST|2826|       OTHER OFFENSE|HARASSMENT BY ELE...|           RESIDENCE| false|    true| 724|       7|  16|            68|      26|     1170805|     1860170|2022|09/14/2023 03:41:...|41.771782439|-87.649436929|(41.771782439, -8...|\n",
      "|12601676|   JF124024|01/13/2022 04:00:...|031XX W AUGUSTA BLVD|1752|OFFENSE INVOLVING...|AGGRAVATED CRIMIN...|           RESIDENCE| false|    true|1211|      12|  36|            23|      17|     1155171|     1906486|2022|09/14/2023 03:41:...|41.899206068|-87.705505587|(41.899206068, -8...|\n",
      "|12785595|   JF346553|08/05/2022 09:00:...|072XX S UNIVERSIT...|1544|         SEX OFFENSE|SEXUAL EXPLOITATI...|           APARTMENT|  true|   false| 324|       3|   5|            69|      17|     1185135|     1857211|2022|09/14/2023 03:41:...|41.763337967|-87.597001131|(41.763337967, -8...|\n",
      "|12808281|   JF373517|08/14/2022 02:00:...| 055XX W ARDMORE AVE|1562|         SEX OFFENSE|AGGRAVATED CRIMIN...|           RESIDENCE| false|   false|1621|      16|  39|            11|      17|     1138383|     1937953|2022|09/14/2023 03:41:...|41.985875279|-87.766403857|(41.985875279, -8...|\n",
      "|12888104|   JF469015|11/10/2022 03:47:...|      072XX S MAY ST|1477|   WEAPONS VIOLATION|RECKLESS FIREARM ...|              STREET| false|   false| 733|       7|  17|            68|      15|     1169903|     1856822|2022|09/14/2023 03:41:...| 41.76261474|-87.652840463|(41.76261474, -87...|\n",
      "|12990873|   JG161829|08/17/2019 01:14:...|  008XX N KARLOV AVE|1751|OFFENSE INVOLVING...|CRIMINAL SEXUAL A...|           RESIDENCE|  true|    true|1111|      11|  37|            23|      17|     1148899|     1905351|2019|09/14/2023 03:41:...| 41.89621515|-87.728572048|(41.89621515, -87...|\n",
      "+--------+-----------+--------------------+--------------------+----+--------------------+--------------------+--------------------+------+--------+----+--------+----+--------------+--------+------------+------------+----+--------------------+------------+-------------+--------------------+\n",
      "only showing top 20 rows\n",
      "\n"
     ]
    }
   ],
   "source": [
    "df.show()"
   ]
  },
  {
   "cell_type": "markdown",
   "id": "e893eb9f",
   "metadata": {},
   "source": [
    "CHANGING 'Date' COLUMN DATA TYPE"
   ]
  },
  {
   "cell_type": "code",
   "execution_count": 14,
   "id": "aadf7966",
   "metadata": {},
   "outputs": [],
   "source": [
    "from pyspark.sql.functions import to_timestamp\n",
    "\n",
    "df = df.withColumn(\"Date\", to_timestamp(\"Date\", \"MM/dd/yyyy hh:mm:ss a\"))"
   ]
  },
  {
   "cell_type": "code",
   "execution_count": 15,
   "id": "53243f6d",
   "metadata": {},
   "outputs": [
    {
     "name": "stdout",
     "output_type": "stream",
     "text": [
      "root\n",
      " |-- ID: integer (nullable = true)\n",
      " |-- Case Number: string (nullable = true)\n",
      " |-- Date: timestamp (nullable = true)\n",
      " |-- Block: string (nullable = true)\n",
      " |-- IUCR: string (nullable = true)\n",
      " |-- Primary Type: string (nullable = true)\n",
      " |-- Description: string (nullable = true)\n",
      " |-- Location Description: string (nullable = true)\n",
      " |-- Arrest: boolean (nullable = true)\n",
      " |-- Domestic: boolean (nullable = true)\n",
      " |-- Beat: integer (nullable = true)\n",
      " |-- District: integer (nullable = true)\n",
      " |-- Ward: integer (nullable = true)\n",
      " |-- Community Area: integer (nullable = true)\n",
      " |-- FBI Code: string (nullable = true)\n",
      " |-- X Coordinate: integer (nullable = true)\n",
      " |-- Y Coordinate: integer (nullable = true)\n",
      " |-- Year: integer (nullable = true)\n",
      " |-- Updated On: string (nullable = true)\n",
      " |-- Latitude: double (nullable = true)\n",
      " |-- Longitude: double (nullable = true)\n",
      " |-- Location: string (nullable = true)\n",
      "\n"
     ]
    }
   ],
   "source": [
    "#showing the data types of the columns\n",
    "df.printSchema()"
   ]
  },
  {
   "cell_type": "code",
   "execution_count": 16,
   "id": "bf8b806a",
   "metadata": {},
   "outputs": [
    {
     "data": {
      "text/plain": [
       "DataFrame[Date: timestamp]"
      ]
     },
     "execution_count": 16,
     "metadata": {},
     "output_type": "execute_result"
    }
   ],
   "source": [
    "df.select('Date')"
   ]
  },
  {
   "cell_type": "code",
   "execution_count": 17,
   "id": "d7465a9d",
   "metadata": {},
   "outputs": [
    {
     "data": {
      "text/plain": [
       "7214526"
      ]
     },
     "execution_count": 17,
     "metadata": {},
     "output_type": "execute_result"
    }
   ],
   "source": [
    "#counting the number of rows\n",
    "df.count()"
   ]
  },
  {
   "cell_type": "markdown",
   "id": "04715e09",
   "metadata": {},
   "source": [
    "FILTERING THE DATA FOR THE LAST TEN YEARS"
   ]
  },
  {
   "cell_type": "code",
   "execution_count": 18,
   "id": "55282ca1",
   "metadata": {},
   "outputs": [],
   "source": [
    "from pyspark.sql.functions import year, current_date\n",
    "\n",
    "#Taking the present year\n",
    "present_year = year(current_date())\n",
    "\n",
    "#getting the last 10th year from the present year\n",
    "last_tenth_year = present_year - 10\n",
    "\n",
    "#filtering the last 10 years data\n",
    "df_last_ten_year = df.filter((df['Year'] >= last_tenth_year) & (df['Year'] <= present_year))"
   ]
  },
  {
   "cell_type": "code",
   "execution_count": 19,
   "id": "529de8f0",
   "metadata": {},
   "outputs": [
    {
     "name": "stdout",
     "output_type": "stream",
     "text": [
      "+--------+-----------+-------------------+--------------------+----+--------------------+--------------------+--------------------+------+--------+----+--------+----+--------------+--------+------------+------------+----+--------------------+------------+-------------+--------------------+\n",
      "|      ID|Case Number|               Date|               Block|IUCR|        Primary Type|         Description|Location Description|Arrest|Domestic|Beat|District|Ward|Community Area|FBI Code|X Coordinate|Y Coordinate|Year|          Updated On|    Latitude|    Longitude|            Location|\n",
      "+--------+-----------+-------------------+--------------------+----+--------------------+--------------------+--------------------+------+--------+----+--------+----+--------------+--------+------------+------------+----+--------------------+------------+-------------+--------------------+\n",
      "|13210088|   JG423627|2023-08-31 12:00:00|023XX W JACKSON BLVD|1153|  DECEPTIVE PRACTICE|FINANCIAL IDENTIT...|              STREET| false|   false|1225|      12|  27|            28|      11|     1160870|     1898642|2023|09/16/2023 03:41:...|41.877565108| -87.68479102|(41.877565108, -8...|\n",
      "|13210004|   JG422532|2023-07-24 21:45:00|073XX S JEFFERY BLVD|0281|CRIMINAL SEXUAL A...|      NON-AGGRAVATED|           APARTMENT| false|   false| 333|       3|   7|            43|      02|     1190812|     1856743|2023|09/16/2023 03:41:...|  41.7619185|-87.576209245|(41.7619185, -87....|\n",
      "|13210062|   JG423596|2023-08-27 07:00:00|034XX N LAWNDALE AVE|0820|               THEFT|      $500 AND UNDER|           APARTMENT| false|   false|1732|      17|  30|            21|      06|     1151117|     1922554|2023|09/16/2023 03:41:...|41.943378528|  -87.7199738|(41.943378528, -8...|\n",
      "|13210107|   JG411849|2023-09-04 21:30:00|   053XX S HOMAN AVE|1310|     CRIMINAL DAMAGE|         TO PROPERTY|  RESIDENCE - GARAGE| false|   false| 822|       8|  14|            63|      14|     1154617|     1869046|2023|09/16/2023 03:41:...|41.796477414|-87.708540915|(41.796477414, -8...|\n",
      "|13210060|   JG423567|2023-08-15 14:20:00|077XX S SPAULDING...|0810|               THEFT|           OVER $500|RESIDENCE - PORCH...| false|   false| 835|       8|  18|            70|      06|     1155724|     1853097|2023|09/16/2023 03:41:...|41.752688801|-87.704908791|(41.752688801, -8...|\n",
      "|13210120|   JG423499|2023-07-24 16:09:00|     002XX W 75TH ST|1120|  DECEPTIVE PRACTICE|             FORGERY|   CURRENCY EXCHANGE| false|   false| 731|       7|   6|            69|      10|     1175716|     1855233|2023|09/16/2023 03:41:...|41.758126171|-87.631582508|(41.758126171, -8...|\n",
      "|13210071|   JG421086|2023-09-03 10:27:00|   089XX S LOOMIS ST|0890|               THEFT|       FROM BUILDING|           APARTMENT| false|   false|2222|      22|  21|            73|      06|     1168564|     1845472|2023|09/16/2023 03:41:...|41.731497731|-87.658074565|(41.731497731, -8...|\n",
      "|13210035|   JG422370|2023-08-17 07:00:00|     019XX W 71ST ST|0820|               THEFT|      $500 AND UNDER|              STREET| false|   false| 735|       7|  17|            67|      06|     1164749|     1857588|2023|09/16/2023 03:41:...|41.764827083|-87.671709119|(41.764827083, -8...|\n",
      "|13210008|   JG422517|2023-08-24 14:27:00|  031XX S WALLACE ST|1110|  DECEPTIVE PRACTICE|         BOGUS CHECK|   CURRENCY EXCHANGE| false|   false| 915|       9|  11|            60|      11|     1172803|     1884190|2023|09/16/2023 03:41:...|41.837651929|-87.641404086|(41.837651929, -8...|\n",
      "|13210072|   JG422242|2023-08-11 11:00:00|  0000X S ALBANY AVE|1790|OFFENSE INVOLVING...|     CHILD ABDUCTION|           RESIDENCE| false|    true|1124|      11|  28|            27|      26|     1155914|     1899709|2023|09/16/2023 03:41:...|41.880594385|-87.702959421|(41.880594385, -8...|\n",
      "|11662417|   JC232642|2019-04-21 12:30:00|     009XX E 80TH ST|031A|             ROBBERY|     ARMED - HANDGUN|           RESIDENCE| false|   false| 631|       6|   8|            44|      03|     1184044|     1852159|2019|09/14/2023 03:41:...|41.749500329|  -87.6011574|(41.749500329, -8...|\n",
      "|12218064|   JD426642|2020-10-30 16:30:00|     011XX E 82ND ST|0266|CRIMINAL SEXUAL A...|           PREDATORY|           RESIDENCE|  true|    true| 411|       4|   8|            45|      02|     1185144|     1850850|2020|09/14/2023 03:41:...|41.745882542|-87.597167639|(41.745882542, -8...|\n",
      "|12342615|   JE202211|2021-04-17 15:20:00| 081XX S PRAIRIE AVE|0325|             ROBBERY| VEHICULAR HIJACKING|           RESIDENCE|  true|   false| 631|       6|   6|            44|      03|     1179448|     1851073|2021|09/14/2023 03:41:...|41.746626309|-87.618031954|(41.746626309, -8...|\n",
      "|12589893|   JF109865|2022-01-11 15:00:00|087XX S KINGSTON AVE|1565|         SEX OFFENSE|INDECENT SOLICITA...|           RESIDENCE| false|    true| 423|       4|   7|            46|      17|     1194660|     1847481|2022|09/14/2023 03:41:...|41.736409029|-87.562410309|(41.736409029, -8...|\n",
      "|12592454|   JF113025|2022-01-14 15:55:00|   067XX S MORGAN ST|2826|       OTHER OFFENSE|HARASSMENT BY ELE...|           RESIDENCE| false|    true| 724|       7|  16|            68|      26|     1170805|     1860170|2022|09/14/2023 03:41:...|41.771782439|-87.649436929|(41.771782439, -8...|\n",
      "|12601676|   JF124024|2022-01-13 16:00:00|031XX W AUGUSTA BLVD|1752|OFFENSE INVOLVING...|AGGRAVATED CRIMIN...|           RESIDENCE| false|    true|1211|      12|  36|            23|      17|     1155171|     1906486|2022|09/14/2023 03:41:...|41.899206068|-87.705505587|(41.899206068, -8...|\n",
      "|12785595|   JF346553|2022-08-05 21:00:00|072XX S UNIVERSIT...|1544|         SEX OFFENSE|SEXUAL EXPLOITATI...|           APARTMENT|  true|   false| 324|       3|   5|            69|      17|     1185135|     1857211|2022|09/14/2023 03:41:...|41.763337967|-87.597001131|(41.763337967, -8...|\n",
      "|12808281|   JF373517|2022-08-14 14:00:00| 055XX W ARDMORE AVE|1562|         SEX OFFENSE|AGGRAVATED CRIMIN...|           RESIDENCE| false|   false|1621|      16|  39|            11|      17|     1138383|     1937953|2022|09/14/2023 03:41:...|41.985875279|-87.766403857|(41.985875279, -8...|\n",
      "|12888104|   JF469015|2022-11-10 03:47:00|      072XX S MAY ST|1477|   WEAPONS VIOLATION|RECKLESS FIREARM ...|              STREET| false|   false| 733|       7|  17|            68|      15|     1169903|     1856822|2022|09/14/2023 03:41:...| 41.76261474|-87.652840463|(41.76261474, -87...|\n",
      "|12990873|   JG161829|2019-08-17 13:14:00|  008XX N KARLOV AVE|1751|OFFENSE INVOLVING...|CRIMINAL SEXUAL A...|           RESIDENCE|  true|    true|1111|      11|  37|            23|      17|     1148899|     1905351|2019|09/14/2023 03:41:...| 41.89621515|-87.728572048|(41.89621515, -87...|\n",
      "+--------+-----------+-------------------+--------------------+----+--------------------+--------------------+--------------------+------+--------+----+--------+----+--------------+--------+------------+------------+----+--------------------+------------+-------------+--------------------+\n",
      "only showing top 20 rows\n",
      "\n"
     ]
    }
   ],
   "source": [
    "df_last_ten_year.show()"
   ]
  },
  {
   "cell_type": "markdown",
   "id": "0cd41137",
   "metadata": {},
   "source": [
    "REMOVING ALL THE RECORDS WITH THE FOLLOWING CRIME TYPES:\n",
    "\n",
    "'NON-CRIMINAL (SUBJECT SPECIFIED)'\n",
    "\n",
    "'OTHER OFFENSE'\n",
    "\n",
    "'STALKING'\n",
    "\n",
    "'NON - CRIMINAL'\n",
    "\n",
    "'ARSON'\n"
   ]
  },
  {
   "cell_type": "code",
   "execution_count": 20,
   "id": "e18d89d3",
   "metadata": {},
   "outputs": [
    {
     "name": "stdout",
     "output_type": "stream",
     "text": [
      "OFFENSE INVOLVING CHILDREN\n",
      "CRIMINAL SEXUAL ASSAULT\n",
      "STALKING\n",
      "PUBLIC PEACE VIOLATION\n",
      "OBSCENITY\n",
      "ARSON\n",
      "GAMBLING\n",
      "CRIMINAL TRESPASS\n",
      "ASSAULT\n",
      "LIQUOR LAW VIOLATION\n",
      "MOTOR VEHICLE THEFT\n",
      "THEFT\n",
      "BATTERY\n",
      "ROBBERY\n",
      "HOMICIDE\n",
      "CRIM SEXUAL ASSAULT\n",
      "HUMAN TRAFFICKING\n",
      "INTIMIDATION\n",
      "PROSTITUTION\n",
      "DECEPTIVE PRACTICE\n",
      "CONCEALED CARRY LICENSE VIOLATION\n",
      "SEX OFFENSE\n",
      "CRIMINAL DAMAGE\n",
      "NARCOTICS\n",
      "OTHER OFFENSE\n",
      "KIDNAPPING\n",
      "BURGLARY\n",
      "WEAPONS VIOLATION\n",
      "INTERFERENCE WITH PUBLIC OFFICER\n",
      "RITUALISM\n",
      "PUBLIC INDECENCY\n",
      "OTHER NARCOTIC VIOLATION\n",
      "NON-CRIMINAL (SUBJECT SPECIFIED)\n",
      "NON-CRIMINAL\n",
      "NON - CRIMINAL\n"
     ]
    }
   ],
   "source": [
    "# All values for the column Primary Type\n",
    "unique_primary_types = df.select(\"Primary Type\").distinct().collect()\n",
    "\n",
    "# Print the list of unique values\n",
    "for i in unique_primary_types:\n",
    "    print(i[0])"
   ]
  },
  {
   "cell_type": "code",
   "execution_count": 21,
   "id": "8688eac4",
   "metadata": {},
   "outputs": [],
   "source": [
    "crime_types_remove = ['NON-CRIMINAL (SUBJECT SPECIFIED)', 'OTHER OFFENSE', 'STALKING', 'NON - CRIMINAL','ARSON']\n",
    "\n",
    "# Remove records with the specified crime types\n",
    "df_removed_crime_types = df.where(~col(\"Primary Type\").isin(crime_types_remove))"
   ]
  },
  {
   "cell_type": "code",
   "execution_count": 22,
   "id": "3f909c8a",
   "metadata": {},
   "outputs": [
    {
     "name": "stdout",
     "output_type": "stream",
     "text": [
      "OFFENSE INVOLVING CHILDREN\n",
      "CRIMINAL SEXUAL ASSAULT\n",
      "PUBLIC PEACE VIOLATION\n",
      "OBSCENITY\n",
      "GAMBLING\n",
      "CRIMINAL TRESPASS\n",
      "ASSAULT\n",
      "LIQUOR LAW VIOLATION\n",
      "MOTOR VEHICLE THEFT\n",
      "THEFT\n",
      "BATTERY\n",
      "ROBBERY\n",
      "HOMICIDE\n",
      "CRIM SEXUAL ASSAULT\n",
      "HUMAN TRAFFICKING\n",
      "INTIMIDATION\n",
      "PROSTITUTION\n",
      "DECEPTIVE PRACTICE\n",
      "CONCEALED CARRY LICENSE VIOLATION\n",
      "SEX OFFENSE\n",
      "CRIMINAL DAMAGE\n",
      "NARCOTICS\n",
      "KIDNAPPING\n",
      "BURGLARY\n",
      "WEAPONS VIOLATION\n",
      "INTERFERENCE WITH PUBLIC OFFICER\n",
      "RITUALISM\n",
      "PUBLIC INDECENCY\n",
      "OTHER NARCOTIC VIOLATION\n",
      "NON-CRIMINAL\n"
     ]
    }
   ],
   "source": [
    "# All values for the column Primary Type\n",
    "unique_primary_types = df_removed_crime_types.select(\"Primary Type\").distinct().collect()\n",
    "\n",
    "# Print the list of unique values\n",
    "for i in unique_primary_types:\n",
    "    print(i[0])"
   ]
  },
  {
   "cell_type": "markdown",
   "id": "05a4b03e",
   "metadata": {},
   "source": [
    "# Merge the similar crime types.\n",
    "\n",
    "For example, change 'Primary Type' of cases that have 'Primary Type' as ‘SEX OFFENSE’ or ‘PROSTITUTION’ such that they should have the same 'Primary Type'.\n"
   ]
  },
  {
   "cell_type": "code",
   "execution_count": 23,
   "id": "370270c5",
   "metadata": {},
   "outputs": [],
   "source": [
    "from pyspark.sql.functions import when, col"
   ]
  },
  {
   "cell_type": "code",
   "execution_count": 24,
   "id": "ed38c4bb",
   "metadata": {},
   "outputs": [],
   "source": [
    "df1 = df.withColumn(\"Primary Type\", \n",
    "    when(df[\"Primary Type\"].isin('CRIMINAL SEXUAL ASSAULT', 'SEXUAL ASSAULT','CRIM SEXUAL ASSAULT'),'SEX ASSAULT')\n",
    "    .when(df[\"Primary Type\"] == 'BATTERY', 'ASSAULT')\n",
    "    .when(df[\"Primary Type\"] == 'CRIMINAL DAMAGE', 'PROPERTY DAMAGE')\n",
    "    .when(df[\"Primary Type\"] == 'HOMICIDE', 'MURDER')\n",
    "    .when(df[\"Primary Type\"].isin('SEX OFFENSE', 'PROSTITUTION'), 'SEX OFFENSE')\n",
    "    .when(df[\"Primary Type\"].isin('CRIMINAL TRESPASS', 'ROBBERY', 'THEFT', 'BURGLARY','MOTOR VEHICLE THEFT'), 'ROBBERY/TRESPASS/THEFT/BURGLARY')\n",
    "    .when(df[\"Primary Type\"] == 'INTERFERENCE WITH PUBLIC OFFICER', 'PUBLIC PEACE INTERFERENCE')\n",
    "    .when(df[\"Primary Type\"].isin('OTHER NARCOTIC VIOLATION','NARCOTIC','NARCOTICS'),'NARCOTICS')\n",
    "    .when(df[\"Primary Type\"].isin('LIQUOR LAW VIOLATION', 'RITUALISM', 'GAMBLING'), 'RITUALISM/GAMBLING/LAW VIOLATION')\n",
    "    .when(df[\"Primary Type\"] == 'PUBLIC INDECENCY', 'INDECENCY')\n",
    "    .when(df[\"Primary Type\"] == 'WEAPONS VIOLATION', 'WEAPONS')\n",
    "    .otherwise(df['Primary Type']))"
   ]
  },
  {
   "cell_type": "code",
   "execution_count": 25,
   "id": "8d40cdaa",
   "metadata": {},
   "outputs": [
    {
     "name": "stdout",
     "output_type": "stream",
     "text": [
      "+---------------------------------+\n",
      "|Primary Type                     |\n",
      "+---------------------------------+\n",
      "|OFFENSE INVOLVING CHILDREN       |\n",
      "|CRIMINAL SEXUAL ASSAULT          |\n",
      "|STALKING                         |\n",
      "|PUBLIC PEACE VIOLATION           |\n",
      "|OBSCENITY                        |\n",
      "|ARSON                            |\n",
      "|GAMBLING                         |\n",
      "|CRIMINAL TRESPASS                |\n",
      "|ASSAULT                          |\n",
      "|LIQUOR LAW VIOLATION             |\n",
      "|MOTOR VEHICLE THEFT              |\n",
      "|THEFT                            |\n",
      "|BATTERY                          |\n",
      "|ROBBERY                          |\n",
      "|HOMICIDE                         |\n",
      "|CRIM SEXUAL ASSAULT              |\n",
      "|HUMAN TRAFFICKING                |\n",
      "|INTIMIDATION                     |\n",
      "|PROSTITUTION                     |\n",
      "|DECEPTIVE PRACTICE               |\n",
      "|CONCEALED CARRY LICENSE VIOLATION|\n",
      "|SEX OFFENSE                      |\n",
      "|CRIMINAL DAMAGE                  |\n",
      "|NARCOTICS                        |\n",
      "|OTHER OFFENSE                    |\n",
      "|KIDNAPPING                       |\n",
      "|BURGLARY                         |\n",
      "|WEAPONS VIOLATION                |\n",
      "|INTERFERENCE WITH PUBLIC OFFICER |\n",
      "|RITUALISM                        |\n",
      "|PUBLIC INDECENCY                 |\n",
      "|OTHER NARCOTIC VIOLATION         |\n",
      "|NON-CRIMINAL (SUBJECT SPECIFIED) |\n",
      "|NON-CRIMINAL                     |\n",
      "|NON - CRIMINAL                   |\n",
      "+---------------------------------+\n",
      "\n"
     ]
    }
   ],
   "source": [
    "df.select(\"Primary Type\").distinct().show(100,False)"
   ]
  },
  {
   "cell_type": "markdown",
   "id": "e2cfda40",
   "metadata": {},
   "source": [
    "# Analyze the data and present results:"
   ]
  },
  {
   "cell_type": "markdown",
   "id": "81be367b",
   "metadata": {},
   "source": [
    "Show year-wise trend of the crime for last ten years.\n",
    "\n",
    "Find out at which hour of the day crime is highest.\n",
    "\n",
    "Find top ten crimes and present them as a bar chart."
   ]
  },
  {
   "cell_type": "code",
   "execution_count": 31,
   "id": "ede4dc83",
   "metadata": {},
   "outputs": [
    {
     "data": {
      "image/png": "[encoded data removed]",
      "text/plain": [
       "<Figure size 720x360 with 1 Axes>"
      ]
     },
     "metadata": {
      "needs_background": "light"
     },
     "output_type": "display_data"
    }
   ],
   "source": [
    "import matplotlib.pyplot as plt\n",
    "import matplotlib.dates as mdates\n",
    "from pyspark.sql import SparkSession\n",
    "from pyspark.sql.functions import year, hour\n",
    "import pandas as pd\n",
    "\n",
    "# 1. Year-Wise Trend of Crime for the Last Ten Years\n",
    "yearly_trend = df.filter(year(\"Date\") >= 2013).groupBy(year(\"Date\").alias(\"Year\")).count().orderBy(\"Year\")\n",
    "yearly_trend_pandas = yearly_trend.toPandas()\n",
    "\n",
    "plt.figure(figsize=(10, 5))\n",
    "plt.plot(yearly_trend_pandas[\"Year\"], yearly_trend_pandas[\"count\"], marker='*')\n",
    "plt.xlabel(\"Year\")\n",
    "plt.ylabel(\"Crime Count\")\n",
    "plt.title(\"Year-wise trend of the crime for last ten years.\")\n",
    "plt.grid(True)\n",
    "plt.show()"
   ]
  },
  {
   "cell_type": "code",
   "execution_count": 32,
   "id": "e96f3561",
   "metadata": {},
   "outputs": [
    {
     "name": "stdout",
     "output_type": "stream",
     "text": [
      "+----+------+\n",
      "|Hour| count|\n",
      "+----+------+\n",
      "|  12|411833|\n",
      "+----+------+\n",
      "only showing top 1 row\n",
      "\n"
     ]
    },
    {
     "data": {
      "image/png": "[encoded data removed]",
      "text/plain": [
       "<Figure size 720x360 with 1 Axes>"
      ]
     },
     "metadata": {
      "needs_background": "light"
     },
     "output_type": "display_data"
    }
   ],
   "source": [
    "# 2. Find Hour of the Day When Crime is Highest\n",
    "hourly_crime = df.groupBy(hour(\"Date\").alias(\"Hour\")).count().orderBy(\"count\", ascending=False)\n",
    "hourly_crime.show(1)  # Show the hour with the highest crime count\n",
    "\n",
    "hourly_crime_pandas = hourly_crime.toPandas()\n",
    "plt.figure(figsize=(10, 5))\n",
    "plt.bar(hourly_crime_pandas[\"Hour\"], hourly_crime_pandas[\"count\"])\n",
    "plt.xlabel(\"Hour of the Day\")\n",
    "plt.ylabel(\"Crime Count\")\n",
    "plt.title(\"Hour of the Day When Crime is Highest\")\n",
    "plt.xticks(range(0, 24))\n",
    "plt.tight_layout()\n",
    "plt.show()"
   ]
  },
  {
   "cell_type": "code",
   "execution_count": 33,
   "id": "41a5d5b2",
   "metadata": {},
   "outputs": [
    {
     "name": "stdout",
     "output_type": "stream",
     "text": [
      "+-------------------+-------+\n",
      "|       Primary Type|  count|\n",
      "+-------------------+-------+\n",
      "|              THEFT|1527751|\n",
      "|            BATTERY|1322655|\n",
      "|    CRIMINAL DAMAGE| 827155|\n",
      "|          NARCOTICS| 671437|\n",
      "|            ASSAULT| 477396|\n",
      "|      OTHER OFFENSE| 447688|\n",
      "|           BURGLARY| 393858|\n",
      "|MOTOR VEHICLE THEFT| 354048|\n",
      "| DECEPTIVE PRACTICE| 310160|\n",
      "|            ROBBERY| 273687|\n",
      "+-------------------+-------+\n",
      "\n"
     ]
    },
    {
     "data": {
      "image/png": "[encoded data removed]",
      "text/plain": [
       "<Figure size 720x360 with 1 Axes>"
      ]
     },
     "metadata": {
      "needs_background": "light"
     },
     "output_type": "display_data"
    }
   ],
   "source": [
    "#3. Find top ten crimes and present them as a bar chart.\n",
    "\n",
    "top_ten_crimes = df.groupBy(\"Primary Type\").count().orderBy(\"count\", ascending=False).limit(10)\n",
    "top_ten_crimes.show()\n",
    "\n",
    "top_ten_crimes_df = top10_crimes.toPandas()\n",
    "\n",
    "plt.figure(figsize=(10, 5))\n",
    "plt.bar(top_ten_crimes_df[\"Primary Type\"],top_ten_crimes_df[\"count\"])\n",
    "plt.xlabel(\"Crime Type\")\n",
    "plt.ylabel(\"No Of Crimes\")\n",
    "plt.title(\"Top Ten Crimes\")\n",
    "plt.xticks(rotation=45,ha=\"right\")\n",
    "plt.show()"
   ]
  },
  {
   "cell_type": "code",
   "execution_count": null,
   "id": "b14b22d4",
   "metadata": {},
   "outputs": [],
   "source": []
  }
 ],
 "metadata": {
  "kernelspec": {
   "display_name": "Python 3 (ipykernel)",
   "language": "python",
   "name": "python3"
  },
  "language_info": {
   "codemirror_mode": {
    "name": "ipython",
    "version": 3
   },
   "file_extension": ".py",
   "mimetype": "text/x-python",
   "name": "python",
   "nbconvert_exporter": "python",
   "pygments_lexer": "ipython3",
   "version": "3.9.7"
  }
 },
 "nbformat": 4,
 "nbformat_minor": 5
}
